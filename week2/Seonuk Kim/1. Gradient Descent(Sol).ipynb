{
 "cells": [
  {
   "cell_type": "code",
   "execution_count": 1,
   "metadata": {},
   "outputs": [
    {
     "data": {
      "image/png": "[encoded data removed]",
      "text/plain": [
       "<Figure size 720x432 with 1 Axes>"
      ]
     },
     "metadata": {
      "needs_background": "light"
     },
     "output_type": "display_data"
    }
   ],
   "source": [
    "import numpy as np\n",
    "import matplotlib.pyplot as plt\n",
    "\n",
    "x = np.linspace(-4.5, 4.5, 10)\n",
    "y = np.array([0.9819, 0.7973, 1.9737, 0.1838, 1.3180, -0.8361, -0.6591, -2.4701, -2.8122, -6.2512])\n",
    "\n",
    "plt.figure(figsize=(10, 6))\n",
    "plt.plot(x, y, 'o')\n",
    "plt.xlabel('x', fontsize=15)\n",
    "plt.ylabel('y', fontsize=15)\n",
    "plt.xlim(-5, 5)\n",
    "plt.ylim(-7, 3)\n",
    "plt.show()"
   ]
  },
  {
   "cell_type": "code",
   "execution_count": 2,
   "metadata": {},
   "outputs": [
    {
     "data": {
      "text/plain": [
       "array([-4.5, -3.5, -2.5, -1.5, -0.5,  0.5,  1.5,  2.5,  3.5,  4.5])"
      ]
     },
     "execution_count": 2,
     "metadata": {},
     "output_type": "execute_result"
    }
   ],
   "source": [
    "x"
   ]
  },
  {
   "cell_type": "code",
   "execution_count": 3,
   "metadata": {},
   "outputs": [
    {
     "data": {
      "text/plain": [
       "array([ 0.9819,  0.7973,  1.9737,  0.1838,  1.318 , -0.8361, -0.6591,\n",
       "       -2.4701, -2.8122, -6.2512])"
      ]
     },
     "execution_count": 3,
     "metadata": {},
     "output_type": "execute_result"
    }
   ],
   "source": [
    "y"
   ]
  },
  {
   "cell_type": "code",
   "execution_count": 4,
   "metadata": {},
   "outputs": [
    {
     "name": "stdout",
     "output_type": "stream",
     "text": [
      "(10,)\n",
      "(10,)\n"
     ]
    }
   ],
   "source": [
    "print(x.shape)\n",
    "print(y.shape)"
   ]
  },
  {
   "cell_type": "code",
   "execution_count": 5,
   "metadata": {},
   "outputs": [],
   "source": [
    "w2 = 1\n",
    "w1 = 1\n",
    "w0 = 1\n",
    "y_hat = w2 * (x ** 2) + w1 * x + w0"
   ]
  },
  {
   "cell_type": "code",
   "execution_count": 6,
   "metadata": {},
   "outputs": [
    {
     "name": "stdout",
     "output_type": "stream",
     "text": [
      "[ 0.9819  0.7973  1.9737  0.1838  1.318  -0.8361 -0.6591 -2.4701 -2.8122\n",
      " -6.2512]\n",
      "[16.75  9.75  4.75  1.75  0.75  1.75  4.75  9.75 16.75 25.75]\n",
      "[-4.5 -3.5 -2.5 -1.5 -0.5  0.5  1.5  2.5  3.5  4.5]\n"
     ]
    }
   ],
   "source": [
    "print(y)\n",
    "print(y_hat)\n",
    "print(x)"
   ]
  },
  {
   "cell_type": "code",
   "execution_count": 7,
   "metadata": {},
   "outputs": [],
   "source": [
    "import matplotlib.pyplot as plt"
   ]
  },
  {
   "cell_type": "code",
   "execution_count": 8,
   "metadata": {},
   "outputs": [
    {
     "data": {
      "image/png": "[encoded data removed]",
      "text/plain": [
       "<Figure size 720x432 with 1 Axes>"
      ]
     },
     "metadata": {
      "needs_background": "light"
     },
     "output_type": "display_data"
    }
   ],
   "source": [
    "plt.figure(figsize = (10, 6))\n",
    "plt.plot(x, y, 'o')\n",
    "plt.show()"
   ]
  },
  {
   "cell_type": "code",
   "execution_count": 9,
   "metadata": {},
   "outputs": [
    {
     "data": {
      "image/png": "[encoded data removed]",
      "text/plain": [
       "<Figure size 720x432 with 1 Axes>"
      ]
     },
     "metadata": {
      "needs_background": "light"
     },
     "output_type": "display_data"
    }
   ],
   "source": [
    "plt.figure(figsize = (10, 6))\n",
    "plt.plot(x, y, 'o')\n",
    "plt.plot(x, y_hat)\n",
    "plt.show()"
   ]
  },
  {
   "cell_type": "code",
   "execution_count": 10,
   "metadata": {},
   "outputs": [
    {
     "data": {
      "text/plain": [
       "(1, 1, 1)"
      ]
     },
     "execution_count": 10,
     "metadata": {},
     "output_type": "execute_result"
    }
   ],
   "source": [
    "w2, w1, w0"
   ]
  },
  {
   "cell_type": "code",
   "execution_count": 11,
   "metadata": {},
   "outputs": [
    {
     "data": {
      "text/plain": [
       "193.130085334"
      ]
     },
     "execution_count": 11,
     "metadata": {},
     "output_type": "execute_result"
    }
   ],
   "source": [
    "np.sum((y_hat - y) ** 2 / 10)"
   ]
  },
  {
   "cell_type": "code",
   "execution_count": 12,
   "metadata": {},
   "outputs": [
    {
     "data": {
      "text/plain": [
       "193.13008533399997"
      ]
     },
     "execution_count": 12,
     "metadata": {},
     "output_type": "execute_result"
    }
   ],
   "source": [
    "loss = np.mean(np.square(y_hat - y))\n",
    "loss"
   ]
  },
  {
   "cell_type": "code",
   "execution_count": 13,
   "metadata": {},
   "outputs": [
    {
     "name": "stdout",
     "output_type": "stream",
     "text": [
      "-28.531246\n",
      "-2.8226620000000002\n",
      "-2.00548\n"
     ]
    }
   ],
   "source": [
    "grad2 = (1 / 10) * 2 * (y - y_hat) * (x ** 2)\n",
    "grad1 = (1 / 10) * 2 * (y - y_hat) * x\n",
    "grad0 = (1 / 10) * 2 * (y - y_hat)\n",
    "\n",
    "grad2 = np.mean(grad2)\n",
    "grad1 = np.mean(grad1)\n",
    "grad0 = np.mean(grad0)\n",
    "\n",
    "print(grad2, grad1, grad0, sep = '\\n')"
   ]
  },
  {
   "cell_type": "code",
   "execution_count": 156,
   "metadata": {},
   "outputs": [
    {
     "name": "stdout",
     "output_type": "stream",
     "text": [
      "-0.13627035541082363 -0.7107042424239061 0.3546316847764172\n"
     ]
    }
   ],
   "source": [
    "print(w2, w1, w0)"
   ]
  },
  {
   "cell_type": "markdown",
   "metadata": {},
   "source": [
    "### y_hat - y일 때는 수렴하는데, 왜 y - y_hat일 때는 발산할까?"
   ]
  },
  {
   "cell_type": "code",
   "execution_count": 154,
   "metadata": {},
   "outputs": [
    {
     "name": "stdout",
     "output_type": "stream",
     "text": [
      "73.1973833034637\n",
      "0.5490022041463609\n",
      "0.48813538645979104\n",
      "0.4664445583882778\n",
      "0.45115553987651846\n",
      "0.44035854037543115\n",
      "0.43273374599698505\n",
      "0.4273491491268103\n",
      "0.4235465700649212\n",
      "0.4208612051489302\n",
      "0.41896481203923636\n",
      "0.4176255874127879\n",
      "0.4166798327636504\n",
      "0.4160119449136953\n",
      "0.41554028539764165\n",
      "0.4152072014837797\n",
      "0.41497197906188965\n",
      "0.41480586600311675\n",
      "0.4146885576781988\n",
      "0.41460571504561694\n"
     ]
    }
   ],
   "source": [
    "learning_rate = 1e-4\n",
    "LR = learning_rate\n",
    "\n",
    "for i in range(400000):\n",
    "    y_hat = w2 * (x ** 2) + w1 * x + w0\n",
    "    grad2 = (1 / 10) * 2 * (y_hat - y) * (x ** 2)\n",
    "    grad1 = (1 / 10) * 2 * (y_hat - y) * x\n",
    "    grad0 = (1 / 10) * 2 * (y_hat - y)\n",
    "    \n",
    "    grad2 = np.mean(grad2)\n",
    "    grad1 = np.mean(grad1)\n",
    "    grad0 = np.mean(grad0)\n",
    "    \n",
    "    w2 = w2 - LR * grad2\n",
    "    w1 = w1 - LR * grad1\n",
    "    w0 = w0 - LR * grad0\n",
    "        \n",
    "    if i % 20000 == 0:\n",
    "        loss = np.mean(np.square(y_hat - y))\n",
    "        print(loss)"
   ]
  },
  {
   "cell_type": "code",
   "execution_count": 155,
   "metadata": {},
   "outputs": [
    {
     "data": {
      "image/png": "[encoded data removed]",
      "text/plain": [
       "<Figure size 720x432 with 1 Axes>"
      ]
     },
     "metadata": {
      "needs_background": "light"
     },
     "output_type": "display_data"
    }
   ],
   "source": [
    "plt.figure(figsize = (10, 6))\n",
    "plt.plot(x, y, 'o')\n",
    "plt.plot(x, y_hat)\n",
    "plt.show()"
   ]
  }
 ],
 "metadata": {
  "kernelspec": {
   "display_name": "Python 3",
   "language": "python",
   "name": "python3"
  },
  "language_info": {
   "codemirror_mode": {
    "name": "ipython",
    "version": 3
   },
   "file_extension": ".py",
   "mimetype": "text/x-python",
   "name": "python",
   "nbconvert_exporter": "python",
   "pygments_lexer": "ipython3",
   "version": "3.8.5"
  }
 },
 "nbformat": 4,
 "nbformat_minor": 4
}
